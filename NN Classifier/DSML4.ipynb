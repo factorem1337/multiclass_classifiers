{
 "cells": [
  {
   "cell_type": "markdown",
   "metadata": {},
   "source": [
    "# Assignment-4"
   ]
  },
  {
   "cell_type": "code",
   "execution_count": 63,
   "metadata": {},
   "outputs": [],
   "source": [
    "import csv\n",
    "import numpy as np\n",
    "import matplotlib.pyplot as plt\n",
    "import seaborn as sns\n",
    "import pandas as pd\n",
    "import tensorflow as tf\n",
    "from PIL import Image\n",
    "from tensorflow import keras\n",
    "from keras.utils import to_categorical\n",
    "from keras.layers import Input, Dense\n",
    "from keras.models import load_model, Sequential, Model\n",
    "from keras.optimizers import SGD\n",
    "\n",
    "import warnings\n",
    "warnings.filterwarnings('ignore')"
   ]
  },
  {
   "cell_type": "code",
   "execution_count": 91,
   "metadata": {},
   "outputs": [
    {
     "data": {
      "text/plain": [
       "array([8, 5, 0, ..., 5, 3, 0])"
      ]
     },
     "execution_count": 91,
     "metadata": {},
     "output_type": "execute_result"
    }
   ],
   "source": [
    "df.values[:,-1]"
   ]
  },
  {
   "cell_type": "code",
   "execution_count": 99,
   "metadata": {},
   "outputs": [],
   "source": [
    "df = pd.read_csv('15206_4.csv')\n",
    "X = df.values[:, :-1]; Y = to_categorical(df.values[:,-1])"
   ]
  },
  {
   "cell_type": "code",
   "execution_count": 106,
   "metadata": {},
   "outputs": [
    {
     "data": {
      "image/png": "[encoded data removed]",
      "text/plain": [
       "<Figure size 432x288 with 1 Axes>"
      ]
     },
     "metadata": {
      "needs_background": "light"
     },
     "output_type": "display_data"
    }
   ],
   "source": [
    "plt.imshow(X[0].reshape(28,28), cmap=\"gray\")\n",
    "plt.show()"
   ]
  },
  {
   "cell_type": "code",
   "execution_count": 75,
   "metadata": {},
   "outputs": [
    {
     "name": "stdout",
     "output_type": "stream",
     "text": [
      "Epoch 1/100\n",
      "3000/3000 [==============================] - 3s 864us/step - loss: 14.3813 - acc: 0.1037\n",
      "Epoch 2/100\n",
      "3000/3000 [==============================] - 1s 178us/step - loss: 14.5492 - acc: 0.0973\n",
      "Epoch 3/100\n",
      "3000/3000 [==============================] - 0s 140us/step - loss: 14.5492 - acc: 0.0973\n",
      "Epoch 4/100\n",
      "3000/3000 [==============================] - 0s 138us/step - loss: 14.5492 - acc: 0.0973\n",
      "Epoch 5/100\n",
      "3000/3000 [==============================] - 0s 115us/step - loss: 14.5492 - acc: 0.0973\n",
      "Epoch 6/100\n",
      "3000/3000 [==============================] - 0s 121us/step - loss: 14.5492 - acc: 0.0973\n",
      "Epoch 7/100\n",
      "3000/3000 [==============================] - 0s 115us/step - loss: 14.5492 - acc: 0.0973\n",
      "Epoch 8/100\n",
      "3000/3000 [==============================] - 0s 134us/step - loss: 14.5492 - acc: 0.0973\n",
      "Epoch 9/100\n",
      "3000/3000 [==============================] - 0s 160us/step - loss: 14.5492 - acc: 0.0973\n",
      "Epoch 10/100\n",
      "3000/3000 [==============================] - 1s 204us/step - loss: 14.5492 - acc: 0.0973\n",
      "Epoch 11/100\n",
      "3000/3000 [==============================] - 1s 215us/step - loss: 14.5492 - acc: 0.0973\n",
      "Epoch 12/100\n",
      "3000/3000 [==============================] - 1s 213us/step - loss: 14.5492 - acc: 0.0973\n",
      "Epoch 13/100\n",
      "3000/3000 [==============================] - 1s 182us/step - loss: 14.5492 - acc: 0.0973\n",
      "Epoch 14/100\n",
      "3000/3000 [==============================] - 0s 143us/step - loss: 14.5492 - acc: 0.0973\n",
      "Epoch 15/100\n",
      "3000/3000 [==============================] - 0s 91us/step - loss: 14.5492 - acc: 0.0973\n",
      "Epoch 16/100\n",
      "3000/3000 [==============================] - 0s 104us/step - loss: 14.5492 - acc: 0.0973\n",
      "Epoch 17/100\n",
      "3000/3000 [==============================] - 0s 138us/step - loss: 14.5492 - acc: 0.0973\n",
      "Epoch 18/100\n",
      "3000/3000 [==============================] - 0s 161us/step - loss: 14.5492 - acc: 0.0973\n",
      "Epoch 19/100\n",
      "3000/3000 [==============================] - 0s 152us/step - loss: 14.5492 - acc: 0.0973\n",
      "Epoch 20/100\n",
      "3000/3000 [==============================] - 0s 161us/step - loss: 14.5492 - acc: 0.0973\n",
      "Epoch 21/100\n",
      "3000/3000 [==============================] - 0s 105us/step - loss: 14.5492 - acc: 0.0973\n",
      "Epoch 22/100\n",
      "3000/3000 [==============================] - 0s 113us/step - loss: 14.5492 - acc: 0.0973\n",
      "Epoch 23/100\n",
      "3000/3000 [==============================] - 0s 116us/step - loss: 14.5492 - acc: 0.0973\n",
      "Epoch 24/100\n",
      "3000/3000 [==============================] - 0s 103us/step - loss: 14.5492 - acc: 0.0973\n",
      "Epoch 25/100\n",
      "3000/3000 [==============================] - 0s 116us/step - loss: 14.5492 - acc: 0.0973\n",
      "Epoch 26/100\n",
      "3000/3000 [==============================] - 0s 99us/step - loss: 14.5492 - acc: 0.0973\n",
      "Epoch 27/100\n",
      "3000/3000 [==============================] - 0s 94us/step - loss: 14.5492 - acc: 0.0973\n",
      "Epoch 28/100\n",
      "3000/3000 [==============================] - 0s 96us/step - loss: 14.5492 - acc: 0.0973\n",
      "Epoch 29/100\n",
      "3000/3000 [==============================] - 0s 94us/step - loss: 14.5492 - acc: 0.0973\n",
      "Epoch 30/100\n",
      "3000/3000 [==============================] - 0s 94us/step - loss: 14.5492 - acc: 0.0973\n",
      "Epoch 31/100\n",
      "3000/3000 [==============================] - 0s 96us/step - loss: 14.5492 - acc: 0.0973\n",
      "Epoch 32/100\n",
      "3000/3000 [==============================] - 0s 117us/step - loss: 14.5492 - acc: 0.0973\n",
      "Epoch 33/100\n",
      "3000/3000 [==============================] - 0s 110us/step - loss: 14.5492 - acc: 0.0973\n",
      "Epoch 34/100\n",
      "3000/3000 [==============================] - 0s 108us/step - loss: 14.5492 - acc: 0.0973\n",
      "Epoch 35/100\n",
      "3000/3000 [==============================] - 0s 140us/step - loss: 14.5492 - acc: 0.0973\n",
      "Epoch 36/100\n",
      "3000/3000 [==============================] - 1s 209us/step - loss: 14.5492 - acc: 0.0973\n",
      "Epoch 37/100\n",
      "3000/3000 [==============================] - 0s 153us/step - loss: 14.5492 - acc: 0.0973\n",
      "Epoch 38/100\n",
      "3000/3000 [==============================] - 0s 127us/step - loss: 14.5492 - acc: 0.0973\n",
      "Epoch 39/100\n",
      "3000/3000 [==============================] - 0s 158us/step - loss: 14.5492 - acc: 0.0973\n",
      "Epoch 40/100\n",
      "3000/3000 [==============================] - 0s 121us/step - loss: 14.5492 - acc: 0.0973\n",
      "Epoch 41/100\n",
      "3000/3000 [==============================] - 0s 114us/step - loss: 14.5492 - acc: 0.0973\n",
      "Epoch 42/100\n",
      "3000/3000 [==============================] - 0s 97us/step - loss: 14.5492 - acc: 0.0973\n",
      "Epoch 43/100\n",
      "3000/3000 [==============================] - 0s 94us/step - loss: 14.5492 - acc: 0.0973\n",
      "Epoch 44/100\n",
      "3000/3000 [==============================] - 0s 121us/step - loss: 14.5492 - acc: 0.0973\n",
      "Epoch 45/100\n",
      "3000/3000 [==============================] - 1s 168us/step - loss: 14.5492 - acc: 0.0973\n",
      "Epoch 46/100\n",
      "3000/3000 [==============================] - 1s 184us/step - loss: 14.5492 - acc: 0.0973\n",
      "Epoch 47/100\n",
      "3000/3000 [==============================] - 0s 147us/step - loss: 14.5492 - acc: 0.0973\n",
      "Epoch 48/100\n",
      "3000/3000 [==============================] - 1s 175us/step - loss: 14.5492 - acc: 0.0973\n",
      "Epoch 49/100\n",
      "3000/3000 [==============================] - 0s 118us/step - loss: 14.5492 - acc: 0.0973\n",
      "Epoch 50/100\n",
      "3000/3000 [==============================] - 0s 133us/step - loss: 14.5492 - acc: 0.0973\n",
      "Epoch 51/100\n",
      "3000/3000 [==============================] - 0s 135us/step - loss: 14.5492 - acc: 0.0973\n",
      "Epoch 52/100\n",
      "3000/3000 [==============================] - 0s 157us/step - loss: 14.5492 - acc: 0.0973\n",
      "Epoch 53/100\n",
      "3000/3000 [==============================] - 0s 118us/step - loss: 14.5492 - acc: 0.0973\n",
      "Epoch 54/100\n",
      "3000/3000 [==============================] - 0s 130us/step - loss: 14.5492 - acc: 0.0973\n",
      "Epoch 55/100\n",
      "3000/3000 [==============================] - 0s 144us/step - loss: 14.5492 - acc: 0.0973\n",
      "Epoch 56/100\n",
      "3000/3000 [==============================] - 0s 163us/step - loss: 14.5492 - acc: 0.0973\n",
      "Epoch 57/100\n",
      "3000/3000 [==============================] - 0s 136us/step - loss: 14.5492 - acc: 0.0973\n",
      "Epoch 58/100\n",
      "3000/3000 [==============================] - 0s 111us/step - loss: 14.5492 - acc: 0.0973\n",
      "Epoch 59/100\n",
      "3000/3000 [==============================] - 0s 99us/step - loss: 14.5492 - acc: 0.0973\n",
      "Epoch 60/100\n",
      "3000/3000 [==============================] - 0s 129us/step - loss: 14.5492 - acc: 0.0973\n",
      "Epoch 61/100\n",
      "3000/3000 [==============================] - 0s 165us/step - loss: 14.5492 - acc: 0.0973\n",
      "Epoch 62/100\n",
      "3000/3000 [==============================] - 0s 114us/step - loss: 14.5492 - acc: 0.0973\n",
      "Epoch 63/100\n",
      "3000/3000 [==============================] - 0s 112us/step - loss: 14.5492 - acc: 0.0973\n",
      "Epoch 64/100\n",
      "3000/3000 [==============================] - 0s 149us/step - loss: 14.5492 - acc: 0.0973\n",
      "Epoch 65/100\n",
      "3000/3000 [==============================] - 1s 177us/step - loss: 14.5492 - acc: 0.0973\n",
      "Epoch 66/100\n",
      "3000/3000 [==============================] - 0s 148us/step - loss: 14.5492 - acc: 0.0973\n",
      "Epoch 67/100\n",
      "3000/3000 [==============================] - 0s 128us/step - loss: 14.5492 - acc: 0.0973\n",
      "Epoch 68/100\n",
      "3000/3000 [==============================] - 0s 164us/step - loss: 14.5492 - acc: 0.0973\n",
      "Epoch 69/100\n",
      "3000/3000 [==============================] - 1s 183us/step - loss: 14.5492 - acc: 0.0973\n",
      "Epoch 70/100\n",
      "3000/3000 [==============================] - 0s 125us/step - loss: 14.5492 - acc: 0.0973\n",
      "Epoch 71/100\n",
      "3000/3000 [==============================] - 0s 131us/step - loss: 14.5492 - acc: 0.0973\n",
      "Epoch 72/100\n",
      "3000/3000 [==============================] - 0s 160us/step - loss: 14.5492 - acc: 0.0973\n",
      "Epoch 73/100\n",
      "3000/3000 [==============================] - 0s 146us/step - loss: 14.5492 - acc: 0.0973\n",
      "Epoch 74/100\n",
      "3000/3000 [==============================] - 0s 151us/step - loss: 14.5492 - acc: 0.0973\n",
      "Epoch 75/100\n",
      "3000/3000 [==============================] - 0s 164us/step - loss: 14.5492 - acc: 0.0973\n",
      "Epoch 76/100\n",
      "3000/3000 [==============================] - 0s 137us/step - loss: 14.5492 - acc: 0.0973\n",
      "Epoch 77/100\n",
      "3000/3000 [==============================] - 0s 148us/step - loss: 14.5492 - acc: 0.0973\n",
      "Epoch 78/100\n",
      "3000/3000 [==============================] - 1s 181us/step - loss: 14.5492 - acc: 0.0973\n",
      "Epoch 79/100\n",
      "3000/3000 [==============================] - 0s 157us/step - loss: 14.5492 - acc: 0.0973\n",
      "Epoch 80/100\n",
      "3000/3000 [==============================] - 0s 126us/step - loss: 14.5492 - acc: 0.0973\n",
      "Epoch 81/100\n",
      "3000/3000 [==============================] - 0s 145us/step - loss: 14.5492 - acc: 0.0973\n",
      "Epoch 82/100\n",
      "3000/3000 [==============================] - 1s 215us/step - loss: 14.5492 - acc: 0.0973\n",
      "Epoch 83/100\n",
      "3000/3000 [==============================] - 0s 141us/step - loss: 14.5492 - acc: 0.0973\n",
      "Epoch 84/100\n",
      "3000/3000 [==============================] - 0s 100us/step - loss: 14.5492 - acc: 0.0973\n",
      "Epoch 85/100\n",
      "3000/3000 [==============================] - 0s 101us/step - loss: 14.5492 - acc: 0.0973\n",
      "Epoch 86/100\n",
      "3000/3000 [==============================] - 0s 107us/step - loss: 14.5492 - acc: 0.0973\n",
      "Epoch 87/100\n",
      "3000/3000 [==============================] - 0s 100us/step - loss: 14.5492 - acc: 0.0973\n",
      "Epoch 88/100\n",
      "3000/3000 [==============================] - 0s 95us/step - loss: 14.5492 - acc: 0.0973\n",
      "Epoch 89/100\n",
      "3000/3000 [==============================] - 0s 102us/step - loss: 14.5492 - acc: 0.0973\n",
      "Epoch 90/100\n",
      "3000/3000 [==============================] - 0s 98us/step - loss: 14.5492 - acc: 0.0973\n",
      "Epoch 91/100\n",
      "3000/3000 [==============================] - 0s 106us/step - loss: 14.5492 - acc: 0.0973\n",
      "Epoch 92/100\n",
      "3000/3000 [==============================] - 0s 99us/step - loss: 14.5492 - acc: 0.0973\n",
      "Epoch 93/100\n",
      "3000/3000 [==============================] - 0s 100us/step - loss: 14.5492 - acc: 0.0973\n",
      "Epoch 94/100\n",
      "3000/3000 [==============================] - 0s 96us/step - loss: 14.5492 - acc: 0.0973\n",
      "Epoch 95/100\n",
      "3000/3000 [==============================] - 0s 100us/step - loss: 14.5492 - acc: 0.0973\n",
      "Epoch 96/100\n",
      "3000/3000 [==============================] - 0s 96us/step - loss: 14.5492 - acc: 0.0973\n",
      "Epoch 97/100\n",
      "3000/3000 [==============================] - 0s 98us/step - loss: 14.5492 - acc: 0.0973\n",
      "Epoch 98/100\n",
      "3000/3000 [==============================] - 0s 113us/step - loss: 14.5492 - acc: 0.0973\n",
      "Epoch 99/100\n",
      "3000/3000 [==============================] - 0s 105us/step - loss: 14.5492 - acc: 0.0973\n",
      "Epoch 100/100\n",
      "3000/3000 [==============================] - 0s 107us/step - loss: 14.5492 - acc: 0.0973\n"
     ]
    },
    {
     "data": {
      "text/plain": [
       "<keras.callbacks.History at 0x7f65c1d3db38>"
      ]
     },
     "execution_count": 75,
     "metadata": {},
     "output_type": "execute_result"
    }
   ],
   "source": [
    "optimizer = SGD(lr=0.1)\n",
    "\n",
    "model = Sequential()\n",
    "model.add(Dense(128, activation='relu', input_dim = 784))\n",
    "model.add(Dense(128, activation='relu'))\n",
    "model.add(Dense(128, activation='relu'))\n",
    "model.add(Dense(10, activation='softmax'))\n",
    "model.compile(loss='categorical_crossentropy', optimizer=optimizer, metrics=['accuracy'])\n",
    "\n",
    "model.fit(X, Y, batch_size=500, epochs=100, verbose=1)"
   ]
  },
  {
   "cell_type": "code",
   "execution_count": 54,
   "metadata": {
    "scrolled": true
   },
   "outputs": [
    {
     "data": {
      "text/plain": [
       "<tf.Tensor 'dense_80/Sigmoid:0' shape=(?, 10) dtype=float32>"
      ]
     },
     "execution_count": 54,
     "metadata": {},
     "output_type": "execute_result"
    }
   ],
   "source": []
  },
  {
   "cell_type": "code",
   "execution_count": null,
   "metadata": {},
   "outputs": [],
   "source": []
  }
 ],
 "metadata": {
  "kernelspec": {
   "display_name": "Python 3",
   "language": "python",
   "name": "python3"
  },
  "language_info": {
   "codemirror_mode": {
    "name": "ipython",
    "version": 3
   },
   "file_extension": ".py",
   "mimetype": "text/x-python",
   "name": "python",
   "nbconvert_exporter": "python",
   "pygments_lexer": "ipython3",
   "version": "3.7.7"
  }
 },
 "nbformat": 4,
 "nbformat_minor": 4
}
