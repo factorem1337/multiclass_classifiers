{
  "nbformat": 4,
  "nbformat_minor": 0,
  "metadata": {
    "colab": {
      "name": "Untitled2.ipynb",
      "provenance": []
    },
    "kernelspec": {
      "name": "python3",
      "display_name": "Python 3"
    },
    "accelerator": "TPU"
  },
  "cells": [
    {
      "cell_type": "markdown",
      "metadata": {
        "id": "ZY-ffAog4uBk",
        "colab_type": "text"
      },
      "source": [
        "# MNIST Dataset"
      ]
    },
    {
      "cell_type": "code",
      "metadata": {
        "id": "FynjbARa4ssm",
        "colab_type": "code",
        "colab": {}
      },
      "source": [
        "import tensorflow as tf\n",
        "import matplotlib.pyplot as plt\n",
        "import numpy as np\n",
        "import pandas as pd\n",
        "\n",
        "from sklearn.model_selection import train_test_split"
      ],
      "execution_count": 0,
      "outputs": []
    },
    {
      "cell_type": "code",
      "metadata": {
        "id": "qhiGWG2o4x5q",
        "colab_type": "code",
        "colab": {}
      },
      "source": [
        "(x_train1,y_train),(x_test1,y_test) = tf.keras.datasets.mnist.load_data()\n",
        "\n",
        "#Normalization of data, since the value range from 0 to 255; to make the data in between 0 and 1, division by 255\n",
        "\n",
        "x_train = (x_train1/255) - 0.5\n",
        "x_test = (x_test1/255) - 0.5\n",
        "\n",
        "#Reshape\n",
        "\n",
        "X_train = x_train.reshape(60000,784)\n",
        "X_test = x_test.reshape(10000,784)"
      ],
      "execution_count": 0,
      "outputs": []
    },
    {
      "cell_type": "code",
      "metadata": {
        "id": "JwCLSI-947ST",
        "colab_type": "code",
        "colab": {}
      },
      "source": [
        "def neural_net(input_neurons, output_neurons, hidden_layers, neu_in_first_hid_lay, neu_in_seco_hid_lay, neu_in_thir_hid_lay, neu_in_four_hid_lay,\n",
        "               input_layer_activation_function, hidden_layers_activation_function, output_layer_activation_function):\n",
        "    \n",
        "  if hidden_layers == 1:\n",
        "      model = tf.keras.models.Sequential()\n",
        "      model.add(tf.keras.layers.Dense(units=input_neurons,activation=input_layer_activation_function,input_shape=(input_neurons,)))\n",
        "      model.add(tf.keras.layers.Dense(units=neu_in_first_hid_lay,activation=hidden_layers_activation_function))\n",
        "      model.add(tf.keras.layers.Dense(units=output_neurons,activation=output_layer_activation_function))\n",
        "  \n",
        "  if hidden_layers == 2:\n",
        "      model = tf.keras.models.Sequential()\n",
        "      model.add(tf.keras.layers.Dense(units=input_neurons,activation=input_layer_activation_function,input_shape=(input_neurons,)))\n",
        "      model.add(tf.keras.layers.Dense(units=neu_in_first_hid_lay,activation=hidden_layers_activation_function))\n",
        "      model.add(tf.keras.layers.Dense(units=neu_in_seco_hid_lay,activation=hidden_layers_activation_function))\n",
        "      model.add(tf.keras.layers.Dense(units=output_neurons,activation=output_layer_activation_function))\n",
        "\n",
        "  if hidden_layers == 3:\n",
        "      model = tf.keras.models.Sequential()\n",
        "      model.add(tf.keras.layers.Dense(units=input_neurons,activation=input_layer_activation_function,input_shape=(input_neurons,)))\n",
        "      model.add(tf.keras.layers.Dense(units=neu_in_first_hid_lay,activation=hidden_layers_activation_function))\n",
        "      model.add(tf.keras.layers.Dense(units=neu_in_seco_hid_lay,activation=hidden_layers_activation_function))\n",
        "      model.add(tf.keras.layers.Dense(units=neu_in_thir_hid_lay,activation=hidden_layers_activation_function))\n",
        "      model.add(tf.keras.layers.Dense(units=output_neurons,activation=output_layer_activation_function))  \n",
        "\n",
        "\n",
        "  if hidden_layers == 4:\n",
        "      model = tf.keras.models.Sequential()\n",
        "      model.add(tf.keras.layers.Dense(units=input_neurons,activation=input_layer_activation_function,input_shape=(input_neurons,)))\n",
        "      model.add(tf.keras.layers.Dense(units=neu_in_first_hid_lay,activation=hidden_layers_activation_function))\n",
        "      model.add(tf.keras.layers.Dense(units=neu_in_seco_hid_lay,activation=hidden_layers_activation_function))\n",
        "      model.add(tf.keras.layers.Dense(units=neu_in_thir_hid_lay,activation=hidden_layers_activation_function))\n",
        "      model.add(tf.keras.layers.Dense(units=neu_in_four_hid_lay,activation=hidden_layers_activation_function))\n",
        "      model.add(tf.keras.layers.Dense(units=output_neurons,activation=output_layer_activation_function))  \n",
        "\n",
        "  model.compile(optimizer=\"adam\",loss=\"sparse_categorical_crossentropy\",metrics=[\"accuracy\"])\n",
        "\n",
        "  return model"
      ],
      "execution_count": 0,
      "outputs": []
    },
    {
      "cell_type": "code",
      "metadata": {
        "id": "C5xfVfzN5Ri-",
        "colab_type": "code",
        "colab": {}
      },
      "source": [
        "model = tf.keras.models.Sequential()\n",
        "model.add(tf.keras.layers.Dense(units=784,activation=\"relu\",input_shape=(784,)))\n",
        "model.add(tf.keras.layers.Dense(units=10,activation=\"softmax\"))\n",
        "model.compile(optimizer=\"adam\",loss=\"sparse_categorical_crossentropy\",metrics=[\"accuracy\"])"
      ],
      "execution_count": 0,
      "outputs": []
    },
    {
      "cell_type": "code",
      "metadata": {
        "id": "WLSJSmjZ5mlo",
        "colab_type": "code",
        "colab": {
          "base_uri": "https://localhost:8080/",
          "height": 399
        },
        "outputId": "8b0d57e0-5505-46b8-f78d-d4adfcc58eb8"
      },
      "source": [
        "model.fit(X_train,y_train,epochs=10,batch_size=128)"
      ],
      "execution_count": 12,
      "outputs": [
        {
          "output_type": "stream",
          "text": [
            "Epoch 1/10\n",
            "469/469 [==============================] - 5s 10ms/step - loss: 0.0399 - accuracy: 0.9876\n",
            "Epoch 2/10\n",
            "469/469 [==============================] - 5s 10ms/step - loss: 0.0384 - accuracy: 0.9879\n",
            "Epoch 3/10\n",
            "469/469 [==============================] - 5s 10ms/step - loss: 0.0337 - accuracy: 0.9891\n",
            "Epoch 4/10\n",
            "469/469 [==============================] - 5s 10ms/step - loss: 0.0278 - accuracy: 0.9915\n",
            "Epoch 5/10\n",
            "469/469 [==============================] - 5s 10ms/step - loss: 0.0241 - accuracy: 0.9923\n",
            "Epoch 6/10\n",
            "469/469 [==============================] - 5s 10ms/step - loss: 0.0219 - accuracy: 0.9928\n",
            "Epoch 7/10\n",
            "469/469 [==============================] - 5s 10ms/step - loss: 0.0210 - accuracy: 0.9934\n",
            "Epoch 8/10\n",
            "469/469 [==============================] - 5s 10ms/step - loss: 0.0196 - accuracy: 0.9936\n",
            "Epoch 9/10\n",
            "469/469 [==============================] - 5s 10ms/step - loss: 0.0174 - accuracy: 0.9942\n",
            "Epoch 10/10\n",
            "469/469 [==============================] - 5s 10ms/step - loss: 0.0190 - accuracy: 0.9939\n"
          ],
          "name": "stdout"
        },
        {
          "output_type": "execute_result",
          "data": {
            "text/plain": [
              "<tensorflow.python.keras.callbacks.History at 0x7fcda6b440b8>"
            ]
          },
          "metadata": {
            "tags": []
          },
          "execution_count": 12
        }
      ]
    },
    {
      "cell_type": "code",
      "metadata": {
        "id": "kbpbNdzC53pg",
        "colab_type": "code",
        "colab": {
          "base_uri": "https://localhost:8080/",
          "height": 53
        },
        "outputId": "0b123fcf-8d7f-4821-d5d3-a1aef6f2eac2"
      },
      "source": [
        "model.evaluate(X_test,y_test)"
      ],
      "execution_count": 13,
      "outputs": [
        {
          "output_type": "stream",
          "text": [
            "313/313 [==============================] - 1s 2ms/step - loss: 0.0816 - accuracy: 0.9775\n"
          ],
          "name": "stdout"
        },
        {
          "output_type": "execute_result",
          "data": {
            "text/plain": [
              "[0.0816013291478157, 0.9775000214576721]"
            ]
          },
          "metadata": {
            "tags": []
          },
          "execution_count": 13
        }
      ]
    },
    {
      "cell_type": "code",
      "metadata": {
        "id": "bDlQX8uJ7OPW",
        "colab_type": "code",
        "colab": {}
      },
      "source": [
        ""
      ],
      "execution_count": 0,
      "outputs": []
    },
    {
      "cell_type": "markdown",
      "metadata": {
        "id": "mIonoG0o8A7Y",
        "colab_type": "text"
      },
      "source": [
        "## Epoch optimization"
      ]
    },
    {
      "cell_type": "code",
      "metadata": {
        "id": "QjyDK_XC5JPq",
        "colab_type": "code",
        "colab": {
          "base_uri": "https://localhost:8080/",
          "height": 1000
        },
        "outputId": "e5f919f9-d3b6-4b6e-dfa4-3e4367fcd9a4"
      },
      "source": [
        "epoch = []\n",
        "train_accuracy_adam = []\n",
        "test_accuracy_adam = []\n",
        "test_loss_adam = []\n",
        "train_loss_adam = []\n",
        "\n",
        "\n",
        "\n",
        "for i in list(range(1,15,1)):\n",
        "  print(\"========================\")\n",
        "  print(\"                        \")\n",
        "  print(\"Epoch No\", i)\n",
        "  print(\"                        \")\n",
        "  epoch.append(i)\n",
        "\n",
        "  model = neural_net(784,10,1,100,0,0,0,\"relu\",\"relu\",\"softmax\")\n",
        "  model_fit = model.fit(X_train,y_train,epochs=i,batch_size=128)\n",
        "\n",
        "  train_accuracy_adam.append(model_fit.history['accuracy'][i-1])\n",
        "  train_loss_adam.append(model_fit.history['loss'][i-1])\n",
        "  model_test = model.evaluate(X_test,y_test)\n",
        "  test_accuracy_adam.append(model_test[1])\n",
        "  test_loss_adam.append(model_test[0])"
      ],
      "execution_count": 26,
      "outputs": [
        {
          "output_type": "stream",
          "text": [
            "========================\n",
            "                        \n",
            "Epoch No 1\n",
            "                        \n",
            "469/469 [==============================] - 5s 11ms/step - loss: 0.3113 - accuracy: 0.9081\n",
            "313/313 [==============================] - 1s 3ms/step - loss: 0.1507 - accuracy: 0.9557\n",
            "========================\n",
            "                        \n",
            "Epoch No 2\n",
            "                        \n",
            "Epoch 1/2\n",
            "469/469 [==============================] - 5s 11ms/step - loss: 0.3108 - accuracy: 0.9064\n",
            "Epoch 2/2\n",
            "469/469 [==============================] - 5s 12ms/step - loss: 0.1355 - accuracy: 0.9592\n",
            "313/313 [==============================] - 1s 2ms/step - loss: 0.1182 - accuracy: 0.9625\n",
            "========================\n",
            "                        \n",
            "Epoch No 3\n",
            "                        \n",
            "Epoch 1/3\n",
            "469/469 [==============================] - 5s 11ms/step - loss: 0.3133 - accuracy: 0.9061\n",
            "Epoch 2/3\n",
            "469/469 [==============================] - 5s 12ms/step - loss: 0.1386 - accuracy: 0.9579\n",
            "Epoch 3/3\n",
            "469/469 [==============================] - 5s 11ms/step - loss: 0.0988 - accuracy: 0.9697\n",
            "313/313 [==============================] - 1s 2ms/step - loss: 0.1031 - accuracy: 0.9677\n",
            "========================\n",
            "                        \n",
            "Epoch No 4\n",
            "                        \n",
            "Epoch 1/4\n",
            "469/469 [==============================] - 5s 12ms/step - loss: 0.3039 - accuracy: 0.9078\n",
            "Epoch 2/4\n",
            "469/469 [==============================] - 5s 12ms/step - loss: 0.1369 - accuracy: 0.9586\n",
            "Epoch 3/4\n",
            "469/469 [==============================] - 6s 12ms/step - loss: 0.0954 - accuracy: 0.9697\n",
            "Epoch 4/4\n",
            "469/469 [==============================] - 5s 11ms/step - loss: 0.0752 - accuracy: 0.9773\n",
            "313/313 [==============================] - 1s 2ms/step - loss: 0.0903 - accuracy: 0.9708\n",
            "========================\n",
            "                        \n",
            "Epoch No 5\n",
            "                        \n",
            "Epoch 1/5\n",
            "469/469 [==============================] - 5s 11ms/step - loss: 0.3235 - accuracy: 0.9029\n",
            "Epoch 2/5\n",
            "469/469 [==============================] - 5s 11ms/step - loss: 0.1426 - accuracy: 0.9564\n",
            "Epoch 3/5\n",
            "469/469 [==============================] - 5s 11ms/step - loss: 0.1005 - accuracy: 0.9687\n",
            "Epoch 4/5\n",
            "469/469 [==============================] - 5s 12ms/step - loss: 0.0800 - accuracy: 0.9749\n",
            "Epoch 5/5\n",
            "469/469 [==============================] - 5s 11ms/step - loss: 0.0672 - accuracy: 0.9788\n",
            "313/313 [==============================] - 1s 2ms/step - loss: 0.1189 - accuracy: 0.9603\n",
            "========================\n",
            "                        \n",
            "Epoch No 6\n",
            "                        \n",
            "Epoch 1/6\n",
            "469/469 [==============================] - 5s 11ms/step - loss: 0.3129 - accuracy: 0.9052\n",
            "Epoch 2/6\n",
            "469/469 [==============================] - 5s 12ms/step - loss: 0.1352 - accuracy: 0.9586\n",
            "Epoch 3/6\n",
            "469/469 [==============================] - 5s 12ms/step - loss: 0.0997 - accuracy: 0.9698\n",
            "Epoch 4/6\n",
            "469/469 [==============================] - 5s 12ms/step - loss: 0.0805 - accuracy: 0.9752\n",
            "Epoch 5/6\n",
            "469/469 [==============================] - 5s 12ms/step - loss: 0.0656 - accuracy: 0.9787\n",
            "Epoch 6/6\n",
            "469/469 [==============================] - 5s 12ms/step - loss: 0.0544 - accuracy: 0.9828\n",
            "313/313 [==============================] - 1s 3ms/step - loss: 0.0751 - accuracy: 0.9758\n",
            "========================\n",
            "                        \n",
            "Epoch No 7\n",
            "                        \n",
            "Epoch 1/7\n",
            "469/469 [==============================] - 5s 12ms/step - loss: 0.3084 - accuracy: 0.9061\n",
            "Epoch 2/7\n",
            "469/469 [==============================] - 5s 11ms/step - loss: 0.1350 - accuracy: 0.9593\n",
            "Epoch 3/7\n",
            "469/469 [==============================] - 5s 11ms/step - loss: 0.0984 - accuracy: 0.9700\n",
            "Epoch 4/7\n",
            "469/469 [==============================] - 5s 12ms/step - loss: 0.0803 - accuracy: 0.9757\n",
            "Epoch 5/7\n",
            "469/469 [==============================] - 5s 12ms/step - loss: 0.0674 - accuracy: 0.9792\n",
            "Epoch 6/7\n",
            "469/469 [==============================] - 5s 12ms/step - loss: 0.0575 - accuracy: 0.9816\n",
            "Epoch 7/7\n",
            "469/469 [==============================] - 5s 12ms/step - loss: 0.0497 - accuracy: 0.9839\n",
            "313/313 [==============================] - 1s 3ms/step - loss: 0.0939 - accuracy: 0.9722\n",
            "========================\n",
            "                        \n",
            "Epoch No 8\n",
            "                        \n",
            "Epoch 1/8\n",
            "469/469 [==============================] - 6s 12ms/step - loss: 0.3145 - accuracy: 0.9042\n",
            "Epoch 2/8\n",
            "469/469 [==============================] - 6s 12ms/step - loss: 0.1362 - accuracy: 0.9582\n",
            "Epoch 3/8\n",
            "469/469 [==============================] - 6s 12ms/step - loss: 0.1007 - accuracy: 0.9690\n",
            "Epoch 4/8\n",
            "469/469 [==============================] - 6s 12ms/step - loss: 0.0783 - accuracy: 0.9757\n",
            "Epoch 5/8\n",
            "469/469 [==============================] - 6s 12ms/step - loss: 0.0647 - accuracy: 0.9802\n",
            "Epoch 6/8\n",
            "469/469 [==============================] - 6s 12ms/step - loss: 0.0548 - accuracy: 0.9823\n",
            "Epoch 7/8\n",
            "469/469 [==============================] - 6s 12ms/step - loss: 0.0511 - accuracy: 0.9835\n",
            "Epoch 8/8\n",
            "469/469 [==============================] - 6s 12ms/step - loss: 0.0439 - accuracy: 0.9860\n",
            "313/313 [==============================] - 1s 3ms/step - loss: 0.0849 - accuracy: 0.9734\n",
            "========================\n",
            "                        \n",
            "Epoch No 9\n",
            "                        \n",
            "Epoch 1/9\n",
            "469/469 [==============================] - 6s 12ms/step - loss: 0.3164 - accuracy: 0.9044\n",
            "Epoch 2/9\n",
            "469/469 [==============================] - 5s 12ms/step - loss: 0.1419 - accuracy: 0.9573\n",
            "Epoch 3/9\n",
            "469/469 [==============================] - 5s 12ms/step - loss: 0.1004 - accuracy: 0.9691\n",
            "Epoch 4/9\n",
            "469/469 [==============================] - 5s 12ms/step - loss: 0.0798 - accuracy: 0.9748\n",
            "Epoch 5/9\n",
            "469/469 [==============================] - 5s 12ms/step - loss: 0.0673 - accuracy: 0.9787\n",
            "Epoch 6/9\n",
            "469/469 [==============================] - 5s 12ms/step - loss: 0.0574 - accuracy: 0.9816\n",
            "Epoch 7/9\n",
            "469/469 [==============================] - 5s 12ms/step - loss: 0.0492 - accuracy: 0.9837\n",
            "Epoch 8/9\n",
            "469/469 [==============================] - 5s 12ms/step - loss: 0.0435 - accuracy: 0.9857\n",
            "Epoch 9/9\n",
            "469/469 [==============================] - 5s 12ms/step - loss: 0.0373 - accuracy: 0.9878\n",
            "313/313 [==============================] - 1s 3ms/step - loss: 0.0822 - accuracy: 0.9758\n",
            "========================\n",
            "                        \n",
            "Epoch No 10\n",
            "                        \n",
            "Epoch 1/10\n",
            "469/469 [==============================] - 6s 12ms/step - loss: 0.3265 - accuracy: 0.9016\n",
            "Epoch 2/10\n",
            "469/469 [==============================] - 6s 12ms/step - loss: 0.1414 - accuracy: 0.9578\n",
            "Epoch 3/10\n",
            "469/469 [==============================] - 6s 12ms/step - loss: 0.1025 - accuracy: 0.9682\n",
            "Epoch 4/10\n",
            "469/469 [==============================] - 6s 12ms/step - loss: 0.0797 - accuracy: 0.9742\n",
            "Epoch 5/10\n",
            "469/469 [==============================] - 6s 12ms/step - loss: 0.0673 - accuracy: 0.9778\n",
            "Epoch 6/10\n",
            "469/469 [==============================] - 6s 12ms/step - loss: 0.0539 - accuracy: 0.9833\n",
            "Epoch 7/10\n",
            "469/469 [==============================] - 6s 12ms/step - loss: 0.0481 - accuracy: 0.9846\n",
            "Epoch 8/10\n",
            "469/469 [==============================] - 6s 12ms/step - loss: 0.0433 - accuracy: 0.9860\n",
            "Epoch 9/10\n",
            "469/469 [==============================] - 6s 12ms/step - loss: 0.0387 - accuracy: 0.9872\n",
            "Epoch 10/10\n",
            "469/469 [==============================] - 6s 12ms/step - loss: 0.0310 - accuracy: 0.9899\n",
            "313/313 [==============================] - 1s 3ms/step - loss: 0.0761 - accuracy: 0.9782\n",
            "========================\n",
            "                        \n",
            "Epoch No 11\n",
            "                        \n",
            "Epoch 1/11\n",
            "469/469 [==============================] - 6s 12ms/step - loss: 0.3132 - accuracy: 0.9053\n",
            "Epoch 2/11\n",
            "469/469 [==============================] - 6s 12ms/step - loss: 0.1343 - accuracy: 0.9597\n",
            "Epoch 3/11\n",
            "469/469 [==============================] - 6s 12ms/step - loss: 0.0997 - accuracy: 0.9692\n",
            "Epoch 4/11\n",
            "469/469 [==============================] - 6s 12ms/step - loss: 0.0764 - accuracy: 0.9768\n",
            "Epoch 5/11\n",
            "469/469 [==============================] - 6s 12ms/step - loss: 0.0651 - accuracy: 0.9794\n",
            "Epoch 6/11\n",
            "469/469 [==============================] - 6s 12ms/step - loss: 0.0568 - accuracy: 0.9819\n",
            "Epoch 7/11\n",
            "469/469 [==============================] - 6s 12ms/step - loss: 0.0525 - accuracy: 0.9825\n",
            "Epoch 8/11\n",
            "469/469 [==============================] - 6s 12ms/step - loss: 0.0448 - accuracy: 0.9845\n",
            "Epoch 9/11\n",
            "469/469 [==============================] - 6s 12ms/step - loss: 0.0385 - accuracy: 0.9874\n",
            "Epoch 10/11\n",
            "469/469 [==============================] - 6s 12ms/step - loss: 0.0357 - accuracy: 0.9885\n",
            "Epoch 11/11\n",
            "469/469 [==============================] - 6s 12ms/step - loss: 0.0292 - accuracy: 0.9905\n",
            "313/313 [==============================] - 1s 2ms/step - loss: 0.0726 - accuracy: 0.9796\n",
            "========================\n",
            "                        \n",
            "Epoch No 12\n",
            "                        \n",
            "Epoch 1/12\n",
            "469/469 [==============================] - 5s 12ms/step - loss: 0.3087 - accuracy: 0.9064\n",
            "Epoch 2/12\n",
            "469/469 [==============================] - 5s 12ms/step - loss: 0.1346 - accuracy: 0.9585\n",
            "Epoch 3/12\n",
            "469/469 [==============================] - 5s 12ms/step - loss: 0.0970 - accuracy: 0.9699\n",
            "Epoch 4/12\n",
            "469/469 [==============================] - 6s 12ms/step - loss: 0.0795 - accuracy: 0.9749\n",
            "Epoch 5/12\n",
            "469/469 [==============================] - 5s 12ms/step - loss: 0.0645 - accuracy: 0.9794\n",
            "Epoch 6/12\n",
            "469/469 [==============================] - 5s 12ms/step - loss: 0.0548 - accuracy: 0.9823\n",
            "Epoch 7/12\n",
            "469/469 [==============================] - 5s 12ms/step - loss: 0.0474 - accuracy: 0.9846\n",
            "Epoch 8/12\n",
            "469/469 [==============================] - 5s 12ms/step - loss: 0.0436 - accuracy: 0.9856\n",
            "Epoch 9/12\n",
            "469/469 [==============================] - 5s 12ms/step - loss: 0.0366 - accuracy: 0.9879\n",
            "Epoch 10/12\n",
            "469/469 [==============================] - 5s 12ms/step - loss: 0.0336 - accuracy: 0.9890\n",
            "Epoch 11/12\n",
            "469/469 [==============================] - 5s 12ms/step - loss: 0.0316 - accuracy: 0.9889\n",
            "Epoch 12/12\n",
            "469/469 [==============================] - 5s 12ms/step - loss: 0.0300 - accuracy: 0.9901\n",
            "313/313 [==============================] - 1s 3ms/step - loss: 0.0670 - accuracy: 0.9816\n",
            "========================\n",
            "                        \n",
            "Epoch No 13\n",
            "                        \n",
            "Epoch 1/13\n",
            "469/469 [==============================] - 6s 12ms/step - loss: 0.3093 - accuracy: 0.9068\n",
            "Epoch 2/13\n",
            "469/469 [==============================] - 6s 12ms/step - loss: 0.1352 - accuracy: 0.9587\n",
            "Epoch 3/13\n",
            "469/469 [==============================] - 6s 12ms/step - loss: 0.0960 - accuracy: 0.9697\n",
            "Epoch 4/13\n",
            "469/469 [==============================] - 6s 12ms/step - loss: 0.0782 - accuracy: 0.9753\n",
            "Epoch 5/13\n",
            "469/469 [==============================] - 6s 12ms/step - loss: 0.0654 - accuracy: 0.9799\n",
            "Epoch 6/13\n",
            "469/469 [==============================] - 6s 12ms/step - loss: 0.0584 - accuracy: 0.9808\n",
            "Epoch 7/13\n",
            "469/469 [==============================] - 6s 12ms/step - loss: 0.0492 - accuracy: 0.9839\n",
            "Epoch 8/13\n",
            "469/469 [==============================] - 6s 12ms/step - loss: 0.0440 - accuracy: 0.9855\n",
            "Epoch 9/13\n",
            "469/469 [==============================] - 6s 12ms/step - loss: 0.0400 - accuracy: 0.9865\n",
            "Epoch 10/13\n",
            "469/469 [==============================] - 6s 13ms/step - loss: 0.0332 - accuracy: 0.9891\n",
            "Epoch 11/13\n",
            "469/469 [==============================] - 8s 18ms/step - loss: 0.0320 - accuracy: 0.9890\n",
            "Epoch 12/13\n",
            "469/469 [==============================] - 5s 12ms/step - loss: 0.0301 - accuracy: 0.9899\n",
            "Epoch 13/13\n",
            "469/469 [==============================] - 6s 12ms/step - loss: 0.0275 - accuracy: 0.9905\n",
            "313/313 [==============================] - 1s 3ms/step - loss: 0.0757 - accuracy: 0.9793\n",
            "========================\n",
            "                        \n",
            "Epoch No 14\n",
            "                        \n",
            "Epoch 1/14\n",
            "469/469 [==============================] - 6s 12ms/step - loss: 0.3050 - accuracy: 0.9063\n",
            "Epoch 2/14\n",
            "469/469 [==============================] - 6s 12ms/step - loss: 0.1347 - accuracy: 0.9593\n",
            "Epoch 3/14\n",
            "469/469 [==============================] - 6s 12ms/step - loss: 0.0982 - accuracy: 0.9699\n",
            "Epoch 4/14\n",
            "469/469 [==============================] - 6s 12ms/step - loss: 0.0783 - accuracy: 0.9759\n",
            "Epoch 5/14\n",
            "469/469 [==============================] - 6s 12ms/step - loss: 0.0655 - accuracy: 0.9791\n",
            "Epoch 6/14\n",
            "469/469 [==============================] - 6s 12ms/step - loss: 0.0536 - accuracy: 0.9828\n",
            "Epoch 7/14\n",
            "469/469 [==============================] - 6s 12ms/step - loss: 0.0488 - accuracy: 0.9840\n",
            "Epoch 8/14\n",
            "469/469 [==============================] - 5s 12ms/step - loss: 0.0429 - accuracy: 0.9862\n",
            "Epoch 9/14\n",
            "469/469 [==============================] - 5s 12ms/step - loss: 0.0380 - accuracy: 0.9869\n",
            "Epoch 10/14\n",
            "469/469 [==============================] - 5s 12ms/step - loss: 0.0371 - accuracy: 0.9873\n",
            "Epoch 11/14\n",
            "469/469 [==============================] - 5s 12ms/step - loss: 0.0283 - accuracy: 0.9908\n",
            "Epoch 12/14\n",
            "469/469 [==============================] - 5s 12ms/step - loss: 0.0259 - accuracy: 0.9914\n",
            "Epoch 13/14\n",
            "469/469 [==============================] - 5s 12ms/step - loss: 0.0266 - accuracy: 0.9915\n",
            "Epoch 14/14\n",
            "469/469 [==============================] - 6s 12ms/step - loss: 0.0257 - accuracy: 0.9914\n",
            "313/313 [==============================] - 1s 4ms/step - loss: 0.0766 - accuracy: 0.9783\n"
          ],
          "name": "stdout"
        }
      ]
    },
    {
      "cell_type": "code",
      "metadata": {
        "id": "Hw9yowHM71PA",
        "colab_type": "code",
        "colab": {
          "base_uri": "https://localhost:8080/",
          "height": 283
        },
        "outputId": "9df66663-1002-4c0b-9354-ca647994a47b"
      },
      "source": [
        "plt.plot(epoch,train_accuracy_adam,'o-')\n",
        "plt.plot(epoch,test_accuracy_adam,'o--')"
      ],
      "execution_count": 29,
      "outputs": [
        {
          "output_type": "execute_result",
          "data": {
            "text/plain": [
              "[<matplotlib.lines.Line2D at 0x7fcda731d748>]"
            ]
          },
          "metadata": {
            "tags": []
          },
          "execution_count": 29
        },
        {
          "output_type": "display_data",
          "data": {
            "image/png": "[encoded data removed]",
            "text/plain": [
              "<Figure size 432x288 with 1 Axes>"
            ]
          },
          "metadata": {
            "tags": [],
            "needs_background": "light"
          }
        }
      ]
    },
    {
      "cell_type": "code",
      "metadata": {
        "id": "jNK6R2oG8dDG",
        "colab_type": "code",
        "colab": {
          "base_uri": "https://localhost:8080/",
          "height": 265
        },
        "outputId": "76091edf-11c7-42ed-c505-c8c4da27f014"
      },
      "source": [
        "plt.plot(epoch,train_loss_adam,'o-')\n",
        "plt.plot(epoch,test_loss_adam,'--')\n",
        "plt.show()"
      ],
      "execution_count": 30,
      "outputs": [
        {
          "output_type": "display_data",
          "data": {
            "image/png": "[encoded data removed]",
            "text/plain": [
              "<Figure size 432x288 with 1 Axes>"
            ]
          },
          "metadata": {
            "tags": [],
            "needs_background": "light"
          }
        }
      ]
    },
    {
      "cell_type": "code",
      "metadata": {
        "id": "xwUzlJi08iyO",
        "colab_type": "code",
        "colab": {}
      },
      "source": [
        ""
      ],
      "execution_count": 0,
      "outputs": []
    }
  ]
}