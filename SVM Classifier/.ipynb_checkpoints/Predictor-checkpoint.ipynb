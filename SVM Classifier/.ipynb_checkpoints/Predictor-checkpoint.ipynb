{
 "cells": [
  {
   "cell_type": "code",
   "execution_count": 1,
   "metadata": {},
   "outputs": [],
   "source": [
    "import numpy as np\n",
    "import pandas as pd\n",
    "import matplotlib.pyplot as plt\n",
    "import seaborn as sns; sns.set()\n",
    "\n",
    "from sklearn.model_selection import train_test_split\n",
    "\n",
    "import sklearn.metrics as sklmet\n",
    "from sklearn import svm \n",
    "\n",
    "from sklearn.model_selection import GridSearchCV\n",
    "\n",
    "\n",
    "from sklearn.metrics import confusion_matrix\n",
    "\n",
    "from sklearn import preprocessing\n",
    "\n",
    "raw_df = pd.read_csv('15134.csv')"
   ]
  },
  {
   "cell_type": "code",
   "execution_count": 5,
   "metadata": {},
   "outputs": [],
   "source": [
    "#function for fitting using rbf kernel\n",
    "\n",
    "def rbf_fit(X_train,y_train,C_range,gam_range):\n",
    "    parameters = [{'C': C_range, 'kernel': ['rbf'], 'gamma': gam_range}]\n",
    "    grid_search = GridSearchCV(estimator = svm.SVC(),\n",
    "                           param_grid = parameters,\n",
    "                           scoring = 'accuracy',\n",
    "                           cv = 4,                            #Using 10 fold cross validation\n",
    "                           n_jobs = -1)\n",
    "    grid_search = grid_search.fit(X_train, y_train)\n",
    "\n",
    "    accuracy = grid_search.best_score_\n",
    "    return accuracy, grid_search.best_params_\n",
    "\n",
    "#function for fitting using linear kernel\n",
    "\n",
    "def lin_fit(X_train,y_train,C_range):\n",
    "    parameters = [{'C': C_range, 'kernel': ['linear']}]\n",
    "    grid_search = GridSearchCV(estimator = svm.SVC(),\n",
    "                           param_grid = parameters,\n",
    "                           scoring = 'accuracy',\n",
    "                           cv = 10,                            #Using 10 fold cross validation\n",
    "                           n_jobs = -1)\n",
    "    grid_search = grid_search.fit(X_train, y_train)\n",
    "\n",
    "    accuracy = grid_search.best_score_ \n",
    "    return accuracy, grid_search.best_params_\n",
    "\n",
    "#function for producing confusion matrix for linear kernel\n",
    "\n",
    "def conf_lin(X_train,y_train,X_test,y_test,C_,z):\n",
    "    classifier = svm.SVC(kernel='linear', C=C_)\n",
    "    classifier.fit(X_train,y_train)\n",
    "    y_predict = classifier.predict(X_test)\n",
    "    acc = sklmet.classification_report(y_test,y_predict)\n",
    "    return f, print(acc)\n",
    "\n",
    "#function for producing confusion matrix for rbf kernel\n",
    "\n",
    "def conf_rbf(X_train,y_train,X_test,y_test,C_,g,z):\n",
    "    classifier = svm.SVC(kernel='rbf',gamma=g, C=C_)\n",
    "    classifier.fit(X_train,y_train)\n",
    "    y_predict = classifier.predict(X_test)\n",
    "    mat = confusion_matrix(y_test, y_predict)\n",
    "    f = sns.heatmap(mat.T, annot=True, fmt='d', cbar=True )\n",
    "    plt.xlabel('true label')\n",
    "    plt.ylabel('predicted label');\n",
    "\n",
    "    fig = f.get_figure()\n",
    "\n",
    "    fig.savefig(z+\".jpg\", dpi=300)\n",
    "    \n",
    "    \n",
    "    acc = sklmet.classification_report(y_test,y_predict)\n",
    "    return f, print(acc)\n",
    " \n",
    "def lin_pred(X_train,y_train,x_predict,C_):\n",
    "    classifier = svm.SVC(kernel='linear', C=C_)\n",
    "    classifier.fit(X_train,y_train)\n",
    "    y_predict = classifier.predict(x_predict)\n",
    "    \n",
    "    return y_predict\n",
    "\n",
    "#function for producing confusion matrix for rbf kernel\n",
    "\n",
    "def rbf_pred(X_train,y_train,X_predict,C_,g):\n",
    "    classifier = svm.SVC(kernel='rbf',gamma=g, C=C_)\n",
    "    classifier.fit(X_train,y_train)\n",
    "    y_predict = classifier.predict(X_predict)\n",
    "    \n",
    "    return y_predict\n",
    "    "
   ]
  },
  {
   "cell_type": "code",
   "execution_count": 6,
   "metadata": {},
   "outputs": [],
   "source": [
    "train_df = pd.read_csv('train_set.csv')\n",
    "test_df = pd.read_csv('test_set.csv')"
   ]
  },
  {
   "cell_type": "code",
   "execution_count": 7,
   "metadata": {},
   "outputs": [],
   "source": [
    "feature_df = train_df[['f1', 'f2', 'f3', 'f4', 'f5', 'f6', 'f7', 'f8', 'f9', 'f10', 'f11',\n",
    "       'f12', 'f13', 'f14', 'f15', 'f16', 'f17', 'f18', 'f19', 'f20', 'f21',\n",
    "       'f22', 'f23', 'f24', 'f25']]\n",
    "\n",
    "X_unnormalized = np.asarray(feature_df)\n",
    "\n",
    "y = np.asarray(train_df['label'])\n",
    "\n",
    "min_max_scaler = preprocessing.MinMaxScaler()\n",
    "\n",
    "X = min_max_scaler.fit_transform(X_unnormalized)\n",
    "X_train,X_test, y_train, y_test = train_test_split(X,y,test_size=0.2,random_state = 4)"
   ]
  },
  {
   "cell_type": "code",
   "execution_count": 8,
   "metadata": {},
   "outputs": [],
   "source": [
    "feature_df = train_df[['f1', 'f2', 'f3', 'f4', 'f5', 'f6', 'f7', 'f8', 'f9', 'f10', 'f11',\n",
    "       'f12', 'f13', 'f14', 'f15', 'f16', 'f17', 'f18', 'f19', 'f20', 'f21',\n",
    "       'f22', 'f23', 'f24', 'f25']]\n",
    "\n",
    "X_unnormalized = np.asarray(feature_df)\n",
    "\n",
    "y = np.asarray(train_df['label'])\n",
    "\n",
    "min_max_scaler = preprocessing.MinMaxScaler()\n",
    "\n",
    "X = min_max_scaler.fit_transform(X_unnormalized)\n",
    "X_train,X_test, y_train, y_test = train_test_split(X,y,test_size=0.2,random_state = 4)"
   ]
  },
  {
   "cell_type": "code",
   "execution_count": 9,
   "metadata": {},
   "outputs": [],
   "source": [
    "pred_feature_df = test_df[['f1', 'f2', 'f3', 'f4', 'f5', 'f6', 'f7', 'f8', 'f9', 'f10', 'f11',\n",
    "       'f12', 'f13', 'f14', 'f15', 'f16', 'f17', 'f18', 'f19', 'f20', 'f21',\n",
    "       'f22', 'f23', 'f24', 'f25']]\n",
    "\n",
    "X_predict_unnormalized = np.asarray(pred_feature_df)\n",
    "\n",
    "X_predict = min_max_scaler.fit_transform(X_predict_unnormalized)"
   ]
  },
  {
   "cell_type": "markdown",
   "metadata": {},
   "source": [
    "#### __Linear kernel__"
   ]
  },
  {
   "cell_type": "code",
   "execution_count": null,
   "metadata": {},
   "outputs": [],
   "source": [
    "lin_fit(X_train,y_train,np.linspace(0.0001,2.3,50)) "
   ]
  },
  {
   "cell_type": "code",
   "execution_count": null,
   "metadata": {},
   "outputs": [],
   "source": [
    "conf_lin(X_train,y_train,X_test,y_test,1.7367591836734693,\"ukda_25fe_lin\")"
   ]
  },
  {
   "cell_type": "code",
   "execution_count": null,
   "metadata": {},
   "outputs": [],
   "source": [
    "y_predict_lin25fe = lin_pred(X_train,y_train,X_predict,1.7367591836734693)"
   ]
  },
  {
   "cell_type": "code",
   "execution_count": null,
   "metadata": {},
   "outputs": [],
   "source": []
  },
  {
   "cell_type": "code",
   "execution_count": null,
   "metadata": {},
   "outputs": [],
   "source": []
  },
  {
   "cell_type": "code",
   "execution_count": null,
   "metadata": {},
   "outputs": [],
   "source": []
  },
  {
   "cell_type": "code",
   "execution_count": null,
   "metadata": {},
   "outputs": [],
   "source": []
  },
  {
   "cell_type": "code",
   "execution_count": null,
   "metadata": {},
   "outputs": [],
   "source": [
    "rbf_fit(X_train,y_train,np.linspace(2,5,10),np.linspace(2,5,10))"
   ]
  },
  {
   "cell_type": "code",
   "execution_count": null,
   "metadata": {},
   "outputs": [],
   "source": [
    "conf_rbf(X_train,y_train,X_test,y_test,3.333333333333333,3.6666666666666665,\"ukda_25fe_rbf\")"
   ]
  },
  {
   "cell_type": "code",
   "execution_count": null,
   "metadata": {},
   "outputs": [],
   "source": []
  }
 ],
 "metadata": {
  "kernelspec": {
   "display_name": "Python 3",
   "language": "python",
   "name": "python3"
  },
  "language_info": {
   "codemirror_mode": {
    "name": "ipython",
    "version": 3
   },
   "file_extension": ".py",
   "mimetype": "text/x-python",
   "name": "python",
   "nbconvert_exporter": "python",
   "pygments_lexer": "ipython3",
   "version": "3.7.7"
  }
 },
 "nbformat": 4,
 "nbformat_minor": 4
}
