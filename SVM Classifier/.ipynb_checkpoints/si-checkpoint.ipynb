{
 "cells": [
  {
   "cell_type": "markdown",
   "metadata": {},
   "source": [
    "# <center> Assignment-3"
   ]
  },
  {
   "cell_type": "code",
   "execution_count": 1,
   "metadata": {},
   "outputs": [],
   "source": [
    "import pandas as pd\n",
    "import numpy as np\n",
    "import matplotlib.pyplot as plt\n",
    "from sklearn.model_selection import train_test_split\n",
    "from svmutil import *\n",
    "import matplotlib.pyplot as plt"
   ]
  },
  {
   "cell_type": "code",
   "execution_count": 2,
   "metadata": {},
   "outputs": [],
   "source": [
    "df = pd.read_csv('15148.csv')\n",
    "#df.head()"
   ]
  },
  {
   "cell_type": "code",
   "execution_count": 3,
   "metadata": {},
   "outputs": [],
   "source": [
    "def filter_data_byclass(df,label_list=[], featuers=25):\n",
    "    if label_list:\n",
    "        return df[[True if i in label_list else False for i in df['label']]][list(df)[:featuers]+['label']]\n",
    "    else:\n",
    "        return df[list(df)[:featuers]+['label']]"
   ]
  },
  {
   "cell_type": "markdown",
   "metadata": {},
   "source": [
    "## Part:1   Binary Classification"
   ]
  },
  {
   "cell_type": "markdown",
   "metadata": {},
   "source": [
    "        SVM Kernal: RBF\n",
    "        Parameters: C(Margin), gamma(RBF Parameter)"
   ]
  },
  {
   "cell_type": "markdown",
   "metadata": {},
   "source": [
    "Function ```search_C_gamma``` will search parameter C and gamma for best cross validation(5-fold) accuracy on training dataset."
   ]
  },
  {
   "cell_type": "code",
   "execution_count": 4,
   "metadata": {},
   "outputs": [],
   "source": [
    "def search_C_gamma(y_train, X_train, para='-v 5 -q',search_domain_C=[0.1,0.2,10],search_domain_g=[0.1,0.2,10]):\n",
    "    best_c, best_g, best_acc  = 0,0,0\n",
    "    C = np.linspace(*tuple(search_domain_C))\n",
    "    gamma = np.linspace(*tuple(search_domain_g))\n",
    "    Acc = np.zeros((search_domain_C[-1],search_domain_g[-1]))\n",
    "    CC,gg = np.meshgrid(C,gamma,sparse=False)\n",
    "    for i in range(search_domain_C[-1]):\n",
    "        for j in range(search_domain_g[-1]):\n",
    "            prob = svm_problem(y_train,X_train)\n",
    "            param = svm_parameter(f'-c {CC[i,j]} -g {gg[i,j]} '+para)\n",
    "            m = svm_train(prob,param)\n",
    "            Acc[i,j] = m\n",
    "            if m > best_acc:\n",
    "                best_c,best_g = CC[i,j],gg[i,j]\n",
    "                best_acc = m\n",
    "    print(f'Best_C = {best_c} and Best_γ = {best_g} with Accuracy = {best_acc}')\n",
    "    plot_contour(C,gamma,Acc)\n",
    "    return best_c, best_g"
   ]
  },
  {
   "cell_type": "code",
   "execution_count": 5,
   "metadata": {},
   "outputs": [],
   "source": [
    "def plot_contour(x,y,z):\n",
    "    h = plt.contourf(x,y,z)\n",
    "    plt.xlabel('C')\n",
    "    plt.ylabel('γ')\n",
    "    cbar = plt.colorbar(h)\n",
    "    cbar.ax.set_ylabel('Cross Validation Accuracy')\n",
    "    plt.show()"
   ]
  },
  {
   "cell_type": "markdown",
   "metadata": {},
   "source": [
    "## 1.\n",
    "    class label: (0,1) \n",
    "    features: 25"
   ]
  },
  {
   "cell_type": "code",
   "execution_count": 36,
   "metadata": {},
   "outputs": [],
   "source": [
    "binary_data = filter_data_byclass(df,[0,1],25)\n",
    "X,y = binary_data[list(df)[:-1]].values,binary_data['label'].values\n",
    "X_train, X_test, y_train, y_test = train_test_split(X, y, test_size=0.40, random_state=42, stratify=y)"
   ]
  },
  {
   "cell_type": "code",
   "execution_count": 37,
   "metadata": {},
   "outputs": [
    {
     "name": "stdout",
     "output_type": "stream",
     "text": [
      "Best_C = 0.28400000000000003 and Best_γ = 0.01 with Accuracy = 99.49109414758269\n"
     ]
    },
    {
     "data": {
      "image/png": "[encoded data removed]",
      "text/plain": [
       "<Figure size 432x288 with 2 Axes>"
      ]
     },
     "metadata": {
      "needs_background": "light"
     },
     "output_type": "display_data"
    }
   ],
   "source": [
    "c,g = search_C_gamma(y_train, X_train, search_domain_C=[0.014,0.50,10],search_domain_g=[0.01,0.1,10])"
   ]
  },
  {
   "cell_type": "code",
   "execution_count": 38,
   "metadata": {},
   "outputs": [
    {
     "name": "stdout",
     "output_type": "stream",
     "text": [
      "Accuracy = 99.6198% (262/263) (classification)\n"
     ]
    }
   ],
   "source": [
    "prob = svm_problem(y_train,X_train)\n",
    "param = svm_parameter(f'-c {c} -g {g} ')\n",
    "model = svm_train(prob,param)\n",
    "_ = svm_predict(y_test, X_test, model)"
   ]
  },
  {
   "cell_type": "markdown",
   "metadata": {},
   "source": [
    "## 2.\n",
    "    Class label: (0,1)\n",
    "    Features: first 10"
   ]
  },
  {
   "cell_type": "code",
   "execution_count": 33,
   "metadata": {},
   "outputs": [],
   "source": [
    "binary_data = filter_data_byclass(df,[0,1],featuers=10)\n",
    "X,y = binary_data[list(binary_data)[:-1]].values,binary_data['label'].values\n",
    "X_train, X_test, y_train, y_test = train_test_split(X, y, test_size=0.40, random_state=42, stratify=y)"
   ]
  },
  {
   "cell_type": "code",
   "execution_count": 34,
   "metadata": {},
   "outputs": [
    {
     "name": "stdout",
     "output_type": "stream",
     "text": [
      "Best_C = 0.014444444444444444 and Best_γ = 0.014444444444444444 with Accuracy = 99.23664122137404\n"
     ]
    },
    {
     "data": {
      "image/png": "[encoded data removed]",
      "text/plain": [
       "<Figure size 432x288 with 2 Axes>"
      ]
     },
     "metadata": {
      "needs_background": "light"
     },
     "output_type": "display_data"
    }
   ],
   "source": [
    "c,g = search_C_gamma(y_train, X_train, search_domain_C=[0.01,0.02,10],search_domain_g=[0.01,0.02,10])"
   ]
  },
  {
   "cell_type": "code",
   "execution_count": 35,
   "metadata": {},
   "outputs": [
    {
     "name": "stdout",
     "output_type": "stream",
     "text": [
      "Accuracy = 98.0989% (258/263) (classification)\n"
     ]
    }
   ],
   "source": [
    "prob = svm_problem(y_train,X_train)\n",
    "param = svm_parameter(f'-c {c} -g {g} ')\n",
    "model = svm_train(prob,param)\n",
    "_ = svm_predict(y_test, X_test, model)"
   ]
  },
  {
   "cell_type": "markdown",
   "metadata": {},
   "source": [
    "## 3.\n",
    "    Class Labels: (0,9)\n",
    "    Features: 25"
   ]
  },
  {
   "cell_type": "code",
   "execution_count": 39,
   "metadata": {},
   "outputs": [],
   "source": [
    "binary_data = filter_data_byclass(df,[0,9],featuers=25)\n",
    "X,y = binary_data[list(binary_data)[:-1]].values,binary_data['label'].values\n",
    "X_train, X_test, y_train, y_test = train_test_split(X, y, test_size=0.40, random_state=42, stratify=y)"
   ]
  },
  {
   "cell_type": "code",
   "execution_count": 49,
   "metadata": {},
   "outputs": [
    {
     "name": "stdout",
     "output_type": "stream",
     "text": [
      "Best_C = 0.7222222222222222 and Best_γ = 0.01 with Accuracy = 98.0225988700565\n"
     ]
    },
    {
     "data": {
      "image/png": "[encoded data removed]",
      "text/plain": [
       "<Figure size 432x288 with 2 Axes>"
      ]
     },
     "metadata": {
      "needs_background": "light"
     },
     "output_type": "display_data"
    }
   ],
   "source": [
    "c,g = search_C_gamma(y_train, X_train, search_domain_C=[0.1,0.8,10],search_domain_g=[0.01,0.02,10])"
   ]
  },
  {
   "cell_type": "code",
   "execution_count": 50,
   "metadata": {},
   "outputs": [
    {
     "name": "stdout",
     "output_type": "stream",
     "text": [
      "Accuracy = 94.0928% (223/237) (classification)\n"
     ]
    }
   ],
   "source": [
    "prob = svm_problem(y_train,X_train)\n",
    "param = svm_parameter(f'-c {c} -g {g} ')\n",
    "model = svm_train(prob,param)\n",
    "_ = svm_predict(y_test, X_test, model)"
   ]
  },
  {
   "cell_type": "markdown",
   "metadata": {},
   "source": [
    "## 4.\n",
    "    Class Labels: (0,9)\n",
    "    Features: 10"
   ]
  },
  {
   "cell_type": "code",
   "execution_count": 51,
   "metadata": {},
   "outputs": [],
   "source": [
    "binary_data = filter_data_byclass(df,[0,9],featuers=10)\n",
    "X,y = binary_data[list(binary_data)[:-1]].values,binary_data['label'].values\n",
    "X_train, X_test, y_train, y_test = train_test_split(X, y, test_size=0.40, random_state=42, stratify=y)"
   ]
  },
  {
   "cell_type": "code",
   "execution_count": 52,
   "metadata": {},
   "outputs": [
    {
     "name": "stdout",
     "output_type": "stream",
     "text": [
      "Best_C = 0.6444444444444445 and Best_γ = 0.01 with Accuracy = 99.15254237288136\n"
     ]
    },
    {
     "data": {
      "image/png": "[encoded data removed]",
      "text/plain": [
       "<Figure size 432x288 with 2 Axes>"
      ]
     },
     "metadata": {
      "needs_background": "light"
     },
     "output_type": "display_data"
    }
   ],
   "source": [
    "c,g = search_C_gamma(y_train, X_train, search_domain_C=[0.1,0.8,10],search_domain_g=[0.01,0.02,10])"
   ]
  },
  {
   "cell_type": "code",
   "execution_count": 53,
   "metadata": {},
   "outputs": [
    {
     "name": "stdout",
     "output_type": "stream",
     "text": [
      "Accuracy = 96.2025% (228/237) (classification)\n"
     ]
    }
   ],
   "source": [
    "prob = svm_problem(y_train,X_train)\n",
    "param = svm_parameter(f'-c {c} -g {g} ')\n",
    "model = svm_train(prob,param)\n",
    "_ = svm_predict(y_test, X_test, model)"
   ]
  },
  {
   "cell_type": "markdown",
   "metadata": {},
   "source": [
    "## Multiclass Classification:"
   ]
  },
  {
   "cell_type": "code",
   "execution_count": 56,
   "metadata": {},
   "outputs": [],
   "source": [
    "data = filter_data_byclass(df,[],25)\n",
    "X,y = data[list(df)[:-1]].values,data['label'].values\n",
    "X_train, X_test, y_train, y_test = train_test_split(X, y, test_size=0.40, random_state=42, stratify=y)"
   ]
  },
  {
   "cell_type": "code",
   "execution_count": 57,
   "metadata": {},
   "outputs": [
    {
     "name": "stdout",
     "output_type": "stream",
     "text": [
      "Best_C = 0.5 and Best_γ = 0.01 with Accuracy = 85.5\n"
     ]
    },
    {
     "data": {
      "image/png": "[encoded data removed]",
      "text/plain": [
       "<Figure size 432x288 with 2 Axes>"
      ]
     },
     "metadata": {
      "needs_background": "light"
     },
     "output_type": "display_data"
    }
   ],
   "source": [
    "c,g = search_C_gamma(y_train, X_train, search_domain_C=[0.014,0.50,10],search_domain_g=[0.01,0.1,10])"
   ]
  },
  {
   "cell_type": "code",
   "execution_count": 74,
   "metadata": {},
   "outputs": [
    {
     "name": "stdout",
     "output_type": "stream",
     "text": [
      "Accuracy = 90.9167% (1091/1200) (classification)\n"
     ]
    }
   ],
   "source": [
    "prob = svm_problem(y_train,X_train)\n",
    "param = svm_parameter(f'-c {1.95} -g {.001} ')\n",
    "model = svm_train(prob,param)\n",
    "_ = svm_predict(y_test, X_test, model)"
   ]
  },
  {
   "cell_type": "code",
   "execution_count": null,
   "metadata": {},
   "outputs": [],
   "source": []
  }
 ],
 "metadata": {
  "kernelspec": {
   "display_name": "Python 3",
   "language": "python",
   "name": "python3"
  },
  "language_info": {
   "codemirror_mode": {
    "name": "ipython",
    "version": 3
   },
   "file_extension": ".py",
   "mimetype": "text/x-python",
   "name": "python",
   "nbconvert_exporter": "python",
   "pygments_lexer": "ipython3",
   "version": "3.7.4"
  }
 },
 "nbformat": 4,
 "nbformat_minor": 2
}
